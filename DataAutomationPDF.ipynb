{
 "cells": [
  {
   "cell_type": "code",
   "execution_count": 1,
   "id": "274d408d",
   "metadata": {},
   "outputs": [],
   "source": [
    "# we use pdf plumber library to extract the data from pdf and the process it accordingly\n",
    "import pdfplumber"
   ]
  },
  {
   "cell_type": "code",
   "execution_count": 2,
   "id": "e906edc5",
   "metadata": {},
   "outputs": [],
   "source": [
    "# then we shall need pandas lib to store the extracted data to the output excel file\n",
    "import pandas as pd\n",
    "from collections import namedtuple"
   ]
  },
  {
   "cell_type": "code",
   "execution_count": 3,
   "id": "2f30460b",
   "metadata": {},
   "outputs": [],
   "source": [
    "#Company Name, Bill To, Vendor Name, Vendor Address, Invoice No., Date, Invoice Due Date, Total "
   ]
  },
  {
   "cell_type": "code",
   "execution_count": 4,
   "id": "c4b26174",
   "metadata": {},
   "outputs": [],
   "source": [
    "Invoice = namedtuple('Invoice', 'Company_Name Bill_To Vendor_Name Vendor_Address Invoice_No Date Invoice_Due_Date Total')"
   ]
  },
  {
   "cell_type": "code",
   "execution_count": 5,
   "id": "d7f19250",
   "metadata": {},
   "outputs": [],
   "source": [
    "with pdfplumber.open(\"E:\\Intern RPA\\Task-PDF.pdf\") as pdf:\n",
    "    page = pdf.pages[0]\n",
    "    text = page.extract_text()"
   ]
  },
  {
   "cell_type": "code",
   "execution_count": 6,
   "id": "111b47e6",
   "metadata": {},
   "outputs": [
    {
     "name": "stdout",
     "output_type": "stream",
     "text": [
      "Technometrics Limit ed\n",
      "Banani\n",
      "Dhaka\n",
      "Invoice\n",
      "Bangladesh\n",
      "1213\n",
      "BILL TO: XYZ INVOICE NO : 00001\n",
      "Vendor Name: Shopify DATE: 12/31/20\n",
      "INVOICE DUE DATE: 12/01/21\n",
      "Address: House 50, Dhaka,Bangladesh\n",
      "ITEMS DESCRIPTION QUANTITY PRICE TAX AMOUNT\n",
      "Headphone Bloody Series 1 2000 5% 2100\n",
      "NOTES: TOTAL: 2100\n"
     ]
    }
   ],
   "source": [
    "print(text)"
   ]
  },
  {
   "cell_type": "code",
   "execution_count": 7,
   "id": "b3579417",
   "metadata": {},
   "outputs": [],
   "source": [
    "lines = text.split('\\n')\n",
    "Company_Name = lines[0]"
   ]
  },
  {
   "cell_type": "code",
   "execution_count": 8,
   "id": "96ab8726",
   "metadata": {},
   "outputs": [],
   "source": [
    "line_items = []\n",
    "for row in lines:\n",
    "    if row.startswith('BILL TO'):\n",
    "        Bill_To = row.split()[2]\n",
    "        Invoice_No = row.split()[-1]\n",
    "    if row.startswith('Vendor'):\n",
    "        Vendor_Name = row.split()[2]\n",
    "        Date = row.split()[-1]\n",
    "    if row.startswith('Address:'):\n",
    "        new_address = row.split()\n",
    "        new_address = new_address[1:]\n",
    "        Vendor_Address = ' '.join(new_address)\n",
    "    if row.startswith('INVOICE '):\n",
    "        Invoice_Due_Date = row.split()[-1]\n",
    "    if row.startswith('NOTES:'):\n",
    "        Total = row.split()[-1]\n",
    "line_items.append(Invoice(Company_Name, Bill_To, Vendor_Name, Vendor_Address, Invoice_No, Date, Invoice_Due_Date, Total))\n",
    "        "
   ]
  },
  {
   "cell_type": "code",
   "execution_count": 9,
   "id": "472462df",
   "metadata": {},
   "outputs": [],
   "source": [
    "data_frame = pd.DataFrame(line_items)"
   ]
  },
  {
   "cell_type": "code",
   "execution_count": 10,
   "id": "825a0841",
   "metadata": {},
   "outputs": [],
   "source": [
    "df = data_frame.drop_duplicates()"
   ]
  },
  {
   "cell_type": "code",
   "execution_count": 11,
   "id": "e41d123f",
   "metadata": {},
   "outputs": [
    {
     "data": {
      "text/html": [
       "<div>\n",
       "<style scoped>\n",
       "    .dataframe tbody tr th:only-of-type {\n",
       "        vertical-align: middle;\n",
       "    }\n",
       "\n",
       "    .dataframe tbody tr th {\n",
       "        vertical-align: top;\n",
       "    }\n",
       "\n",
       "    .dataframe thead th {\n",
       "        text-align: right;\n",
       "    }\n",
       "</style>\n",
       "<table border=\"1\" class=\"dataframe\">\n",
       "  <thead>\n",
       "    <tr style=\"text-align: right;\">\n",
       "      <th></th>\n",
       "      <th>Company_Name</th>\n",
       "      <th>Bill_To</th>\n",
       "      <th>Vendor_Name</th>\n",
       "      <th>Vendor_Address</th>\n",
       "      <th>Invoice_No</th>\n",
       "      <th>Date</th>\n",
       "      <th>Invoice_Due_Date</th>\n",
       "      <th>Total</th>\n",
       "    </tr>\n",
       "  </thead>\n",
       "  <tbody>\n",
       "    <tr>\n",
       "      <th>0</th>\n",
       "      <td>Technometrics Limit ed</td>\n",
       "      <td>XYZ</td>\n",
       "      <td>Shopify</td>\n",
       "      <td>House 50, Dhaka,Bangladesh</td>\n",
       "      <td>00001</td>\n",
       "      <td>12/31/20</td>\n",
       "      <td>12/01/21</td>\n",
       "      <td>2100</td>\n",
       "    </tr>\n",
       "  </tbody>\n",
       "</table>\n",
       "</div>"
      ],
      "text/plain": [
       "             Company_Name Bill_To Vendor_Name              Vendor_Address  \\\n",
       "0  Technometrics Limit ed     XYZ     Shopify  House 50, Dhaka,Bangladesh   \n",
       "\n",
       "  Invoice_No      Date Invoice_Due_Date Total  \n",
       "0      00001  12/31/20         12/01/21  2100  "
      ]
     },
     "execution_count": 11,
     "metadata": {},
     "output_type": "execute_result"
    }
   ],
   "source": [
    "df.head()"
   ]
  },
  {
   "cell_type": "code",
   "execution_count": 12,
   "id": "2b5063bd",
   "metadata": {},
   "outputs": [],
   "source": [
    "df.to_excel(\"output.xlsx\")"
   ]
  },
  {
   "cell_type": "code",
   "execution_count": null,
   "id": "b0d31e39",
   "metadata": {},
   "outputs": [],
   "source": []
  }
 ],
 "metadata": {
  "kernelspec": {
   "display_name": "Python 3",
   "language": "python",
   "name": "python3"
  },
  "language_info": {
   "codemirror_mode": {
    "name": "ipython",
    "version": 3
   },
   "file_extension": ".py",
   "mimetype": "text/x-python",
   "name": "python",
   "nbconvert_exporter": "python",
   "pygments_lexer": "ipython3",
   "version": "3.8.8"
  }
 },
 "nbformat": 4,
 "nbformat_minor": 5
}
